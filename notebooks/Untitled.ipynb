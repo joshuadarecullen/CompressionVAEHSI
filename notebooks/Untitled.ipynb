{
 "cells": [
  {
   "cell_type": "code",
   "execution_count": 7,
   "id": "81996a03",
   "metadata": {},
   "outputs": [],
   "source": [
    "import torchgeo\n",
    "import torch\n",
    "folderPath = '/home/joshua/Documents/phd/CompressionVAEHSI/data/BigEarthNet-S2-v1.0/BigEarthNet-v1.0/S2A_MSIL2A_20170613T101031_0_45/'\n",
    "fileName = 'S2A_MSIL2A_20170613T101031_0_45_B01.tif'"
   ]
  },
  {
   "cell_type": "code",
   "execution_count": 8,
   "id": "3edeed28",
   "metadata": {},
   "outputs": [],
   "source": [
    "fullPath = folderPath + fileName"
   ]
  },
  {
   "cell_type": "code",
   "execution_count": 10,
   "id": "51bd6c4c",
   "metadata": {},
   "outputs": [],
   "source": [
    "import rasterio\n",
    "import numpy as np\n",
    "\n",
    "# Open the TIFF file using rasterio\n",
    "with rasterio.open(fullPath) as src:\n",
    "    # Read the TIFF data as a NumPy array\n",
    "    tif_data = src.read()"
   ]
  },
  {
   "cell_type": "code",
   "execution_count": 12,
   "id": "fea71476",
   "metadata": {},
   "outputs": [
    {
     "ename": "TypeError",
     "evalue": "can't convert np.ndarray of type numpy.uint16. The only supported types are: float64, float32, float16, complex64, complex128, int64, int32, int16, int8, uint8, and bool.",
     "output_type": "error",
     "traceback": [
      "\u001b[0;31m---------------------------------------------------------------------------\u001b[0m",
      "\u001b[0;31mTypeError\u001b[0m                                 Traceback (most recent call last)",
      "Cell \u001b[0;32mIn[12], line 2\u001b[0m\n\u001b[1;32m      1\u001b[0m \u001b[38;5;66;03m# Convert the NumPy array to a PyTorch tensor\u001b[39;00m\n\u001b[0;32m----> 2\u001b[0m tif_tensor \u001b[38;5;241m=\u001b[39m \u001b[43mtorch\u001b[49m\u001b[38;5;241;43m.\u001b[39;49m\u001b[43mfrom_numpy\u001b[49m\u001b[43m(\u001b[49m\u001b[43mtif_data\u001b[49m\u001b[43m)\u001b[49m\n",
      "\u001b[0;31mTypeError\u001b[0m: can't convert np.ndarray of type numpy.uint16. The only supported types are: float64, float32, float16, complex64, complex128, int64, int32, int16, int8, uint8, and bool."
     ]
    }
   ],
   "source": [
    "# Convert the NumPy array to a PyTorch tensor\n",
    "tif_tensor = torch.from_numpy(tif_data)"
   ]
  },
  {
   "cell_type": "code",
   "execution_count": 13,
   "id": "7ac8ebac",
   "metadata": {},
   "outputs": [
    {
     "ename": "NameError",
     "evalue": "name 'tif_tensor' is not defined",
     "output_type": "error",
     "traceback": [
      "\u001b[0;31m---------------------------------------------------------------------------\u001b[0m",
      "\u001b[0;31mNameError\u001b[0m                                 Traceback (most recent call last)",
      "Cell \u001b[0;32mIn[13], line 2\u001b[0m\n\u001b[1;32m      1\u001b[0m \u001b[38;5;66;03m# Print information about the loaded data\u001b[39;00m\n\u001b[0;32m----> 2\u001b[0m \u001b[38;5;28mprint\u001b[39m(\u001b[38;5;124m\"\u001b[39m\u001b[38;5;124mShape of the TIFF data:\u001b[39m\u001b[38;5;124m\"\u001b[39m, \u001b[43mtif_tensor\u001b[49m\u001b[38;5;241m.\u001b[39mshape)\n\u001b[1;32m      3\u001b[0m \u001b[38;5;28mprint\u001b[39m(\u001b[38;5;124m\"\u001b[39m\u001b[38;5;124mData type of the TIFF data:\u001b[39m\u001b[38;5;124m\"\u001b[39m, tif_tensor\u001b[38;5;241m.\u001b[39mdtype)\n",
      "\u001b[0;31mNameError\u001b[0m: name 'tif_tensor' is not defined"
     ]
    }
   ],
   "source": [
    "# Print information about the loaded data\n",
    "print(\"Shape of the TIFF data:\", tif_tensor.shape)\n",
    "print(\"Data type of the TIFF data:\", tif_tensor.dtype)"
   ]
  },
  {
   "cell_type": "code",
   "execution_count": 15,
   "id": "a09dacd5",
   "metadata": {},
   "outputs": [
    {
     "data": {
      "image/png": "[encoded data removed]",
      "text/plain": [
       "<Figure size 640x480 with 1 Axes>"
      ]
     },
     "metadata": {},
     "output_type": "display_data"
    }
   ],
   "source": [
    "import matplotlib.pyplot as plt\n",
    "from PIL import Image\n",
    "\n",
    "# Open the TIFF file using PIL (Pillow)\n",
    "tif_image = Image.open(fullPath)\n",
    "\n",
    "# Display the TIFF image using matplotlib\n",
    "plt.imshow(tif_image)\n",
    "plt.axis('off')  # Turn off the axis labels and ticks\n",
    "plt.show()"
   ]
  },
  {
   "cell_type": "code",
   "execution_count": null,
   "id": "441b1ab0",
   "metadata": {},
   "outputs": [],
   "source": []
  }
 ],
 "metadata": {
  "kernelspec": {
   "display_name": "Python 3 (ipykernel)",
   "language": "python",
   "name": "python3"
  },
  "language_info": {
   "codemirror_mode": {
    "name": "ipython",
    "version": 3
   },
   "file_extension": ".py",
   "mimetype": "text/x-python",
   "name": "python",
   "nbconvert_exporter": "python",
   "pygments_lexer": "ipython3",
   "version": "3.8.17"
  }
 },
 "nbformat": 4,
 "nbformat_minor": 5
}
