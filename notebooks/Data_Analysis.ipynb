{
 "cells": [
  {
   "cell_type": "markdown",
   "id": "76da61f3",
   "metadata": {},
   "source": [
    "## Dataset Analysis"
   ]
  },
  {
   "cell_type": "code",
   "execution_count": 17,
   "id": "441b1ab0",
   "metadata": {},
   "outputs": [],
   "source": [
    "import sys\n",
    "import os\n",
    "cwd = os.getcwd()\n",
    "parent_dir = os.path.abspath(os.path.join(os.path.dirname(cwd), '.')) # Get the absolute path to the parent directory\n",
    "sys.path.insert(0, parent_dir) # Add the parent directory to sys.path"
   ]
  },
  {
   "cell_type": "code",
   "execution_count": 18,
   "id": "24a1a4e1",
   "metadata": {},
   "outputs": [
    {
     "data": {
      "text/plain": [
       "'/home/joshua/Documents/phd/CompressionVAEHSI/data'"
      ]
     },
     "execution_count": 18,
     "metadata": {},
     "output_type": "execute_result"
    }
   ],
   "source": [
    "dataset_dir = parent_dir + \"/data\" # root directory where to download the datasets\n",
    "batch_size = 16\n",
    "dataset_dir"
   ]
  },
  {
   "cell_type": "code",
   "execution_count": 19,
   "id": "325c3446",
   "metadata": {},
   "outputs": [],
   "source": [
    "# loading datamodule\n",
    "from src.data.bigearth_datamodule import BigEarthDataModule\n",
    "dm = BigEarthDataModule(dataset_dir=dataset_dir, batch_size=batch_size, bands='all')\n",
    "dm.setup()"
   ]
  },
  {
   "cell_type": "code",
   "execution_count": 20,
   "id": "4dd4498b",
   "metadata": {},
   "outputs": [],
   "source": [
    "dm.setup_folds(5)\n",
    "dm.setup_fold_index(0)\n",
    "\n",
    "batch = next(iter(dm.train_dataloader()))"
   ]
  },
  {
   "cell_type": "code",
   "execution_count": 5,
   "id": "aeaa5bc9",
   "metadata": {},
   "outputs": [],
   "source": [
    "x, y = batch.values()"
   ]
  },
  {
   "cell_type": "code",
   "execution_count": 6,
   "id": "8121b9ac",
   "metadata": {},
   "outputs": [
    {
     "data": {
      "text/plain": [
       "tensor([6.0000e+00, 1.6000e+01, 9.8590e+03, 1.2872e+04, 1.3163e+04, 1.4445e+04,\n",
       "        1.2477e+04, 1.2563e+04, 1.2289e+04, 1.5596e+04, 1.2183e+04, 9.4580e+03,\n",
       "        5.8970e+03, 5.5440e+03])"
      ]
     },
     "execution_count": 6,
     "metadata": {},
     "output_type": "execute_result"
    }
   ],
   "source": [
    "dm.maxs"
   ]
  },
  {
   "cell_type": "code",
   "execution_count": 14,
   "id": "4cadc1a9",
   "metadata": {},
   "outputs": [],
   "source": [
    "# loading dataset\n",
    "from src.data.bigearth_dataset import BigEarthDataset\n",
    "data = BigEarthDataset(                                                                                                                                                                                                                         \n",
    "    root=dataset_dir,\n",
    "    bands='all',\n",
    "    download=False,\n",
    ")"
   ]
  },
  {
   "cell_type": "code",
   "execution_count": 21,
   "id": "16683746",
   "metadata": {},
   "outputs": [
    {
     "name": "stdout",
     "output_type": "stream",
     "text": [
      "Number of train samples:  332342\n",
      "Number of validation samples:  83086\n",
      "Number of test samples:  103856\n"
     ]
    }
   ],
   "source": [
    "print(\"Number of train samples: \", len(dm.train_dataloader().dataset))\n",
    "print(\"Number of validation samples: \", len(dm.val_dataloader().dataset))\n",
    "print(\"Number of test samples: \", len(dm.test_dataloader().dataset))"
   ]
  },
  {
   "cell_type": "code",
   "execution_count": 6,
   "id": "c2e4b5f0",
   "metadata": {},
   "outputs": [],
   "source": [
    "batch = next(iter(dm.train_dataloader()))\n",
    "x, y = batch.values()"
   ]
  },
  {
   "cell_type": "code",
   "execution_count": 12,
   "id": "9385ee43",
   "metadata": {},
   "outputs": [],
   "source": [
    "import numpy as np\n",
    "np.random.seed(0)"
   ]
  },
  {
   "cell_type": "code",
   "execution_count": 15,
   "id": "5d2f6513",
   "metadata": {},
   "outputs": [],
   "source": [
    "num = np.random.random()"
   ]
  },
  {
   "cell_type": "code",
   "execution_count": 16,
   "id": "64f26feb",
   "metadata": {},
   "outputs": [
    {
     "data": {
      "text/plain": [
       "0.7151893663724195"
      ]
     },
     "execution_count": 16,
     "metadata": {},
     "output_type": "execute_result"
    }
   ],
   "source": [
    "num"
   ]
  },
  {
   "cell_type": "code",
   "execution_count": null,
   "id": "50b84832",
   "metadata": {},
   "outputs": [],
   "source": []
  }
 ],
 "metadata": {
  "kernelspec": {
   "display_name": "Python 3 (ipykernel)",
   "language": "python",
   "name": "python3"
  },
  "language_info": {
   "codemirror_mode": {
    "name": "ipython",
    "version": 3
   },
   "file_extension": ".py",
   "mimetype": "text/x-python",
   "name": "python",
   "nbconvert_exporter": "python",
   "pygments_lexer": "ipython3",
   "version": "3.10.13"
  }
 },
 "nbformat": 4,
 "nbformat_minor": 5
}
