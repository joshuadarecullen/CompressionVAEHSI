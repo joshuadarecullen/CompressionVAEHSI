{
 "cells": [
  {
   "cell_type": "markdown",
   "id": "76da61f3",
   "metadata": {},
   "source": [
    "## Dataset Analysis"
   ]
  },
  {
   "cell_type": "code",
   "execution_count": 1,
   "id": "441b1ab0",
   "metadata": {},
   "outputs": [],
   "source": [
    "import sys\n",
    "import os\n",
    "cwd = os.getcwd()\n",
    "parent_dir = os.path.abspath(os.path.join(os.path.dirname(cwd), '.')) # Get the absolute path to the parent directory\n",
    "sys.path.insert(0, parent_dir) # Add the parent directory to sys.path"
   ]
  },
  {
   "cell_type": "code",
   "execution_count": 2,
   "id": "24a1a4e1",
   "metadata": {},
   "outputs": [
    {
     "data": {
      "text/plain": [
       "'/home/joshua/Documents/phd/CompressionVAEHSI/data'"
      ]
     },
     "execution_count": 2,
     "metadata": {},
     "output_type": "execute_result"
    }
   ],
   "source": [
    "dataset_dir = parent_dir + \"/data\" # root directory where to download the datasets\n",
    "batch_size = 16\n",
    "dataset_dir"
   ]
  },
  {
   "cell_type": "code",
   "execution_count": 3,
   "id": "325c3446",
   "metadata": {},
   "outputs": [],
   "source": [
    "# loading datamodule\n",
    "from src.data.bigearth_datamodule import BigEarthDataModule\n",
    "dm = BigEarthDataModule(dataset_dir=dataset_dir, batch_size=batch_size, bands='all')\n",
    "dm.setup()"
   ]
  },
  {
   "cell_type": "code",
   "execution_count": 5,
   "id": "4dd4498b",
   "metadata": {},
   "outputs": [],
   "source": [
    "dm.setup_folds(5)\n",
    "dm.setup_fold_index(0)\n",
    "\n",
    "batch = next(iter(dm.train_dataloader()))"
   ]
  },
  {
   "cell_type": "code",
   "execution_count": 10,
   "id": "aeaa5bc9",
   "metadata": {},
   "outputs": [],
   "source": [
    "x, y = batch.values()"
   ]
  },
  {
   "cell_type": "code",
   "execution_count": 12,
   "id": "8121b9ac",
   "metadata": {},
   "outputs": [
    {
     "data": {
      "text/plain": [
       "tensor([6.0000e+00, 1.6000e+01, 9.8590e+03, 1.2872e+04, 1.3163e+04, 1.4445e+04,\n",
       "        1.2477e+04, 1.2563e+04, 1.2289e+04, 1.5596e+04, 1.2183e+04, 9.4580e+03,\n",
       "        5.8970e+03, 5.5440e+03])"
      ]
     },
     "execution_count": 12,
     "metadata": {},
     "output_type": "execute_result"
    }
   ],
   "source": [
    "dm.maxs"
   ]
  },
  {
   "cell_type": "code",
   "execution_count": 14,
   "id": "4cadc1a9",
   "metadata": {},
   "outputs": [],
   "source": [
    "# loading dataset\n",
    "from src.data.bigearth_dataset import BigEarthDataset\n",
    "data = BigEarthDataset(                                                                                                                                                                                                                         \n",
    "    root=dataset_dir,\n",
    "    bands='all',\n",
    "    download=False,\n",
    ")"
   ]
  },
  {
   "cell_type": "code",
   "execution_count": 21,
   "id": "1769a04a",
   "metadata": {},
   "outputs": [
    {
     "data": {
      "text/plain": [
       "{'s1': '/home/joshua/Documents/phd/CompressionVAEHSI/data/BigEarthNet-S1-v1.0/S1B_IW_GRDH_1SDV_20170717T064605_29UPA_28_87',\n",
       " 's2': '/home/joshua/Documents/phd/CompressionVAEHSI/data/BigEarthNet-v1.0/S2A_MSIL2A_20170717T113321_28_87'}"
      ]
     },
     "execution_count": 21,
     "metadata": {},
     "output_type": "execute_result"
    }
   ],
   "source": [
    "data.folders[0]"
   ]
  },
  {
   "cell_type": "code",
   "execution_count": 9,
   "id": "161bbf58",
   "metadata": {},
   "outputs": [],
   "source": [
    "filename = \"master.csv\""
   ]
  },
  {
   "cell_type": "code",
   "execution_count": 24,
   "id": "f8b3402f",
   "metadata": {},
   "outputs": [],
   "source": [
    "import pandas as pd\n",
    "master = pd.read_csv(dataset_dir+'/'+filename)"
   ]
  },
  {
   "cell_type": "code",
   "execution_count": 26,
   "id": "41237fc1",
   "metadata": {},
   "outputs": [
    {
     "data": {
      "text/plain": [
       "Index(['S2', 'S1'], dtype='object')"
      ]
     },
     "execution_count": 26,
     "metadata": {},
     "output_type": "execute_result"
    }
   ],
   "source": [
    "names = master.columns\n",
    "names"
   ]
  },
  {
   "cell_type": "code",
   "execution_count": 22,
   "id": "7fb4e337",
   "metadata": {},
   "outputs": [
    {
     "data": {
      "text/html": [
       "<div>\n",
       "<style scoped>\n",
       "    .dataframe tbody tr th:only-of-type {\n",
       "        vertical-align: middle;\n",
       "    }\n",
       "\n",
       "    .dataframe tbody tr th {\n",
       "        vertical-align: top;\n",
       "    }\n",
       "\n",
       "    .dataframe thead th {\n",
       "        text-align: right;\n",
       "    }\n",
       "</style>\n",
       "<table border=\"1\" class=\"dataframe\">\n",
       "  <thead>\n",
       "    <tr style=\"text-align: right;\">\n",
       "      <th></th>\n",
       "      <th>0</th>\n",
       "      <th>1</th>\n",
       "    </tr>\n",
       "  </thead>\n",
       "  <tbody>\n",
       "    <tr>\n",
       "      <th>0</th>\n",
       "      <td>S2</td>\n",
       "      <td>S1</td>\n",
       "    </tr>\n",
       "    <tr>\n",
       "      <th>1</th>\n",
       "      <td>S2A_MSIL2A_20170717T113321_28_87</td>\n",
       "      <td>S1B_IW_GRDH_1SDV_20170717T064605_29UPA_28_87</td>\n",
       "    </tr>\n",
       "    <tr>\n",
       "      <th>2</th>\n",
       "      <td>S2A_MSIL2A_20170717T113321_28_90</td>\n",
       "      <td>S1B_IW_GRDH_1SDV_20170717T064605_29UPA_28_90</td>\n",
       "    </tr>\n",
       "    <tr>\n",
       "      <th>3</th>\n",
       "      <td>S2A_MSIL2A_20170717T113321_29_83</td>\n",
       "      <td>S1B_IW_GRDH_1SDV_20170717T064605_29UPA_29_83</td>\n",
       "    </tr>\n",
       "    <tr>\n",
       "      <th>4</th>\n",
       "      <td>S2A_MSIL2A_20170717T113321_29_84</td>\n",
       "      <td>S1B_IW_GRDH_1SDV_20170717T064605_29UPA_29_84</td>\n",
       "    </tr>\n",
       "    <tr>\n",
       "      <th>...</th>\n",
       "      <td>...</td>\n",
       "      <td>...</td>\n",
       "    </tr>\n",
       "    <tr>\n",
       "      <th>519280</th>\n",
       "      <td>S2B_MSIL2A_20170924T93021_74_7</td>\n",
       "      <td>S1B_IW_GRDH_1SDV_20170926T042416_35VPH_74_7</td>\n",
       "    </tr>\n",
       "    <tr>\n",
       "      <th>519281</th>\n",
       "      <td>S2B_MSIL2A_20180522T093029_72_6</td>\n",
       "      <td>S1B_IW_GRDH_1SDV_20180524T153951_35VPH_72_6</td>\n",
       "    </tr>\n",
       "    <tr>\n",
       "      <th>519282</th>\n",
       "      <td>S2B_MSIL2A_20180522T093029_74_7</td>\n",
       "      <td>S1B_IW_GRDH_1SDV_20180524T153951_35VPH_74_7</td>\n",
       "    </tr>\n",
       "    <tr>\n",
       "      <th>519283</th>\n",
       "      <td>S2B_MSIL2A_20170812T092029_72_6</td>\n",
       "      <td>S1A_IW_GRDH_1SDV_20170810T153207_35VPH_72_6</td>\n",
       "    </tr>\n",
       "    <tr>\n",
       "      <th>519284</th>\n",
       "      <td>S2B_MSIL2A_20170812T092029_74_7</td>\n",
       "      <td>S1A_IW_GRDH_1SDV_20170810T153207_35VPH_74_7</td>\n",
       "    </tr>\n",
       "  </tbody>\n",
       "</table>\n",
       "<p>519285 rows × 2 columns</p>\n",
       "</div>"
      ],
      "text/plain": [
       "                                       0  \\\n",
       "0                                     S2   \n",
       "1       S2A_MSIL2A_20170717T113321_28_87   \n",
       "2       S2A_MSIL2A_20170717T113321_28_90   \n",
       "3       S2A_MSIL2A_20170717T113321_29_83   \n",
       "4       S2A_MSIL2A_20170717T113321_29_84   \n",
       "...                                  ...   \n",
       "519280    S2B_MSIL2A_20170924T93021_74_7   \n",
       "519281   S2B_MSIL2A_20180522T093029_72_6   \n",
       "519282   S2B_MSIL2A_20180522T093029_74_7   \n",
       "519283   S2B_MSIL2A_20170812T092029_72_6   \n",
       "519284   S2B_MSIL2A_20170812T092029_74_7   \n",
       "\n",
       "                                                   1  \n",
       "0                                                 S1  \n",
       "1       S1B_IW_GRDH_1SDV_20170717T064605_29UPA_28_87  \n",
       "2       S1B_IW_GRDH_1SDV_20170717T064605_29UPA_28_90  \n",
       "3       S1B_IW_GRDH_1SDV_20170717T064605_29UPA_29_83  \n",
       "4       S1B_IW_GRDH_1SDV_20170717T064605_29UPA_29_84  \n",
       "...                                              ...  \n",
       "519280   S1B_IW_GRDH_1SDV_20170926T042416_35VPH_74_7  \n",
       "519281   S1B_IW_GRDH_1SDV_20180524T153951_35VPH_72_6  \n",
       "519282   S1B_IW_GRDH_1SDV_20180524T153951_35VPH_74_7  \n",
       "519283   S1A_IW_GRDH_1SDV_20170810T153207_35VPH_72_6  \n",
       "519284   S1A_IW_GRDH_1SDV_20170810T153207_35VPH_74_7  \n",
       "\n",
       "[519285 rows x 2 columns]"
      ]
     },
     "execution_count": 22,
     "metadata": {},
     "output_type": "execute_result"
    }
   ],
   "source": [
    "master"
   ]
  },
  {
   "cell_type": "code",
   "execution_count": 19,
   "id": "916de1f9",
   "metadata": {},
   "outputs": [],
   "source": [
    "master.columns = {'S2', 'S1'}"
   ]
  },
  {
   "cell_type": "code",
   "execution_count": 26,
   "id": "70bd212f",
   "metadata": {},
   "outputs": [],
   "source": [
    "master.to_csv(os.path.join(parent_dir, filename), index=False)"
   ]
  },
  {
   "cell_type": "code",
   "execution_count": 23,
   "id": "25016701",
   "metadata": {},
   "outputs": [],
   "source": [
    "s1_dir = 'BigEarthNet-S1-v1.0'\n",
    "s2_dir = 'BigEarthNet-v1.0'\n",
    "\n",
    "#s2 = master['S2'].tolist()\n",
    "#s1 = master['S1'].tolist()\n",
    "\n",
    "folders = [\n",
    "            {\n",
    "                \"s1\": os.path.join(parent_dir, s1_dir, s1_file),\n",
    "                \"s2\": os.path.join(parent_dir, s2_dir, s2_file)\n",
    "            }\n",
    "    for s1_file, s2_file in zip(master['S1'], master['S2'])\n",
    "]"
   ]
  },
  {
   "cell_type": "code",
   "execution_count": 25,
   "id": "b07f4e34",
   "metadata": {},
   "outputs": [
    {
     "data": {
      "text/plain": [
       "{'s1': '/home/joshua/Documents/phd/CompressionVAEHSI/BigEarthNet-S1-v1.0/S1B_IW_GRDH_1SDV_20170717T064605_29UPA_28_87',\n",
       " 's2': '/home/joshua/Documents/phd/CompressionVAEHSI/BigEarthNet-v1.0/S2A_MSIL2A_20170717T113321_28_87'}"
      ]
     },
     "execution_count": 25,
     "metadata": {},
     "output_type": "execute_result"
    }
   ],
   "source": [
    "folders[0]"
   ]
  },
  {
   "cell_type": "code",
   "execution_count": 4,
   "id": "16683746",
   "metadata": {},
   "outputs": [
    {
     "name": "stdout",
     "output_type": "stream",
     "text": [
      "Number of train samples:  332342\n",
      "Number of validation samples:  83086\n",
      "Number of test samples:  103857\n"
     ]
    }
   ],
   "source": [
    "dm.setup_folds(5)\n",
    "dm.setup_fold_index(0)\n",
    "print(\"Number of train samples: \", len(dm.train_dataloader().dataset))\n",
    "print(\"Number of validation samples: \", len(dm.val_dataloader().dataset))\n",
    "print(\"Number of test samples: \", len(dm.test_dataloader().dataset))"
   ]
  },
  {
   "cell_type": "code",
   "execution_count": 6,
   "id": "c2e4b5f0",
   "metadata": {},
   "outputs": [],
   "source": [
    "batch = next(iter(dm.train_dataloader()))\n",
    "x, y = batch.values()"
   ]
  },
  {
   "cell_type": "code",
   "execution_count": 50,
   "id": "7086cb88",
   "metadata": {},
   "outputs": [
    {
     "data": {
      "text/plain": [
       "torch.Size([16, 12, 120, 120])"
      ]
     },
     "execution_count": 50,
     "metadata": {},
     "output_type": "execute_result"
    }
   ],
   "source": [
    "batch['image'].shape"
   ]
  },
  {
   "cell_type": "code",
   "execution_count": 32,
   "id": "e817f667",
   "metadata": {},
   "outputs": [],
   "source": [
    "import matplotlib.pyplot as plt\n",
    "import numpy as np\n",
    "\n",
    "#TODO for reconstruction images we need the one-hot class decoder\n",
    "def get_label_names(onehots, class_names):\n",
    "    \"\"\"get all the names when a label is a one-hot.\"\"\"\n",
    "    label_idx = np.where(onehots)[0]\n",
    "    label_names = [class_names[19][idx] for idx in label_idx]\n",
    "    return label_names\n",
    "\n",
    "def display_image(ds, idx):\n",
    "    #img = ds[idx]['data'].numpy()\n",
    "    img = ds[idx]['image'].numpy()[3:6,:,:]\n",
    "    labels = ds[idx]['label']\n",
    "    for band in range(len(img)):\n",
    "        # normalize based on min/max pixel values to clamp ranges in [0, 1]\n",
    "        img[band, ...] = (img[band, ...] - np.min(img[band, ...])) / np.max(img[band, ...])\n",
    "    \n",
    "    img = np.moveaxis(img, 0, 2) # C, W, H > W, H, C\n",
    "    img = img[:,:,::-1] # BGR to RGB\n",
    "    \n",
    "    label_names = get_label_names(labels, dm.label_decoder) \n",
    "\n",
    "    plt.title('\\n'.join(label_names))\n",
    "    plt.imshow(img)\n",
    "    ax = plt.gca()\n",
    "    ax.set_axis_off()\n",
    "    plt.show()"
   ]
  },
  {
   "cell_type": "code",
   "execution_count": 115,
   "id": "796a1068-1270-4ade-87c3-e37270812adb",
   "metadata": {},
   "outputs": [
    {
     "data": {
      "text/plain": [
       "(120, 120, 3)"
      ]
     },
     "execution_count": 115,
     "metadata": {},
     "output_type": "execute_result"
    }
   ],
   "source": [
    "img = np.moveaxis(orig_img, 0, 2) # switchs from [14,120,120] to [120,120,14]\n",
    "img.shape"
   ]
  },
  {
   "cell_type": "code",
   "execution_count": 33,
   "id": "d8be6c1f-1e0c-4d2f-a2a3-c32f9848bfb1",
   "metadata": {},
   "outputs": [
    {
     "data": {
      "image/png": "[encoded data removed]",
      "text/plain": [
       "<Figure size 640x480 with 1 Axes>"
      ]
     },
     "metadata": {},
     "output_type": "display_data"
    }
   ],
   "source": [
    "ds = dm.val_dataloader().dataset\n",
    "display_image(ds, 5)"
   ]
  },
  {
   "cell_type": "code",
   "execution_count": null,
   "id": "e31af6ae",
   "metadata": {},
   "outputs": [],
   "source": []
  }
 ],
 "metadata": {
  "kernelspec": {
   "display_name": "Python 3 (ipykernel)",
   "language": "python",
   "name": "python3"
  },
  "language_info": {
   "codemirror_mode": {
    "name": "ipython",
    "version": 3
   },
   "file_extension": ".py",
   "mimetype": "text/x-python",
   "name": "python",
   "nbconvert_exporter": "python",
   "pygments_lexer": "ipython3",
   "version": "3.10.13"
  }
 },
 "nbformat": 4,
 "nbformat_minor": 5
}
