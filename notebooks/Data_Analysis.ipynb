{
 "cells": [
  {
   "cell_type": "markdown",
   "id": "76da61f3",
   "metadata": {},
   "source": [
    "## Dataset Analysis"
   ]
  },
  {
   "cell_type": "code",
   "execution_count": 1,
   "id": "441b1ab0",
   "metadata": {},
   "outputs": [],
   "source": [
    "import sys\n",
    "import os\n",
    "cwd = os.getcwd()\n",
    "parent_dir = os.path.abspath(os.path.join(os.path.dirname(cwd), '.')) # Get the absolute path to the parent directory\n",
    "sys.path.insert(0, parent_dir) # Add the parent directory to sys.path"
   ]
  },
  {
   "cell_type": "code",
   "execution_count": 2,
   "id": "24a1a4e1",
   "metadata": {},
   "outputs": [
    {
     "data": {
      "text/plain": [
       "'/home/joshua/Documents/phd/CompressionVAEHSI/data'"
      ]
     },
     "execution_count": 2,
     "metadata": {},
     "output_type": "execute_result"
    }
   ],
   "source": [
    "dataset_dir = parent_dir + \"/data\" # root directory where to download the datasets\n",
    "batch_size = 16\n",
    "dataset_dir"
   ]
  },
  {
   "cell_type": "code",
   "execution_count": 3,
   "id": "325c3446",
   "metadata": {},
   "outputs": [],
   "source": [
    "# loading datamodule\n",
    "from src.data.bigearth_datamodule import BigEarthDataModule\n",
    "dm = BigEarthDataModule(dataset_dir=dataset_dir, batch_size=batch_size, bands='all')\n",
    "dm.setup()"
   ]
  },
  {
   "cell_type": "code",
   "execution_count": 4,
   "id": "4dd4498b",
   "metadata": {},
   "outputs": [],
   "source": [
    "dm.setup_folds(5)\n",
    "dm.setup_fold_index(0)\n",
    "\n",
    "batch = next(iter(dm.train_dataloader()))"
   ]
  },
  {
   "cell_type": "code",
   "execution_count": 5,
   "id": "aeaa5bc9",
   "metadata": {},
   "outputs": [],
   "source": [
    "x, y = batch.values()"
   ]
  },
  {
   "cell_type": "code",
   "execution_count": 6,
   "id": "8121b9ac",
   "metadata": {},
   "outputs": [
    {
     "data": {
      "text/plain": [
       "tensor([6.0000e+00, 1.6000e+01, 9.8590e+03, 1.2872e+04, 1.3163e+04, 1.4445e+04,\n",
       "        1.2477e+04, 1.2563e+04, 1.2289e+04, 1.5596e+04, 1.2183e+04, 9.4580e+03,\n",
       "        5.8970e+03, 5.5440e+03])"
      ]
     },
     "execution_count": 6,
     "metadata": {},
     "output_type": "execute_result"
    }
   ],
   "source": [
    "dm.maxs"
   ]
  },
  {
   "cell_type": "code",
   "execution_count": 14,
   "id": "4cadc1a9",
   "metadata": {},
   "outputs": [],
   "source": [
    "# loading dataset\n",
    "from src.data.bigearth_dataset import BigEarthDataset\n",
    "data = BigEarthDataset(                                                                                                                                                                                                                         \n",
    "    root=dataset_dir,\n",
    "    bands='all',\n",
    "    download=False,\n",
    ")"
   ]
  },
  {
   "cell_type": "code",
   "execution_count": 4,
   "id": "16683746",
   "metadata": {},
   "outputs": [
    {
     "name": "stdout",
     "output_type": "stream",
     "text": [
      "Number of train samples:  332342\n",
      "Number of validation samples:  83086\n",
      "Number of test samples:  103857\n"
     ]
    }
   ],
   "source": [
    "dm.setup_folds(5)\n",
    "dm.setup_fold_index(0)\n",
    "print(\"Number of train samples: \", len(dm.train_dataloader().dataset))\n",
    "print(\"Number of validation samples: \", len(dm.val_dataloader().dataset))\n",
    "print(\"Number of test samples: \", len(dm.test_dataloader().dataset))"
   ]
  },
  {
   "cell_type": "code",
   "execution_count": 6,
   "id": "c2e4b5f0",
   "metadata": {},
   "outputs": [],
   "source": [
    "batch = next(iter(dm.train_dataloader()))\n",
    "x, y = batch.values()"
   ]
  },
  {
   "cell_type": "code",
   "execution_count": 6,
   "id": "8086f208",
   "metadata": {},
   "outputs": [],
   "source": [
    "import kornia.augmentation as K  \n",
    "from torchgeo.transforms import AugmentationSequential\n",
    "import torch"
   ]
  },
  {
   "cell_type": "code",
   "execution_count": 7,
   "id": "96068095",
   "metadata": {},
   "outputs": [],
   "source": [
    "mins = torch.tensor(\n",
    "         [-48.0, -42.0, 1.0, 1.0, 1.0, 1.0, 1.0, 1.0, 1.0, 1.0, 1.0, 1.0, 1.0, 1.0]\n",
    "     )\n",
    "maxs = torch.tensor(\n",
    "         [\n",
    "             6.0,\n",
    "             16.0,\n",
    "             9859.0,\n",
    "             12872.0,\n",
    "             13163.0,\n",
    "             14445.0,\n",
    "             12477.0,\n",
    "             12563.0,\n",
    "              12289.0,                                                                                                                                                                                                                                    \n",
    "             15596.0,\n",
    "             12183.0,\n",
    "             9458.0,\n",
    "             5897.0,\n",
    "             5544.0,\n",
    "         ]\n",
    "     )\n",
    "mean = mins\n",
    "std = maxs - mins"
   ]
  },
  {
   "cell_type": "code",
   "execution_count": 8,
   "id": "7cc71676",
   "metadata": {},
   "outputs": [],
   "source": [
    "aug = AugmentationSequential(K.Normalize(mean=mean, std=std), data_keys=['image'])"
   ]
  },
  {
   "cell_type": "code",
   "execution_count": 9,
   "id": "d5ed532a",
   "metadata": {},
   "outputs": [],
   "source": [
    "norm_batch = aug(batch)"
   ]
  },
  {
   "cell_type": "code",
   "execution_count": 10,
   "id": "85d5fded",
   "metadata": {},
   "outputs": [],
   "source": [
    "nx, ny = norm_batch.values()"
   ]
  },
  {
   "cell_type": "code",
   "execution_count": 11,
   "id": "66b325f7",
   "metadata": {},
   "outputs": [
    {
     "data": {
      "text/plain": [
       "tensor(0.8621)"
      ]
     },
     "execution_count": 11,
     "metadata": {},
     "output_type": "execute_result"
    }
   ],
   "source": [
    "nx[9,1,:,:].max()"
   ]
  },
  {
   "cell_type": "code",
   "execution_count": 12,
   "id": "98216564",
   "metadata": {},
   "outputs": [
    {
     "data": {
      "text/plain": [
       "tensor([-48., -42.,   1.,   1.,   1.,   1.,   1.,   1.,   1.,   1.,   1.,   1.,\n",
       "          1.,   1.])"
      ]
     },
     "execution_count": 12,
     "metadata": {},
     "output_type": "execute_result"
    }
   ],
   "source": [
    "mean"
   ]
  },
  {
   "cell_type": "code",
   "execution_count": 13,
   "id": "6c272953",
   "metadata": {},
   "outputs": [
    {
     "data": {
      "text/plain": [
       "tensor(8.)"
      ]
     },
     "execution_count": 13,
     "metadata": {},
     "output_type": "execute_result"
    }
   ],
   "source": [
    "x[9,1,:,:].max()"
   ]
  },
  {
   "cell_type": "code",
   "execution_count": 54,
   "id": "bc600ee3",
   "metadata": {},
   "outputs": [],
   "source": [
    "import torch.nn as nn   \n",
    "class CyclicBatchAnnealer(nn.Module):\n",
    "    def __init__(self,\n",
    "                 cycle_length: int = 34620,\n",
    "                 max_value: float = 1.0, \n",
    "                 warmup_batches: int = 4*152) -> None:\n",
    "        \"\"\"\n",
    "        Implements batch-wise cyclic annealing.\n",
    "\n",
    "        Args:\n",
    "        - cycle_length: Number of batches for a complete cycle (from 0 to max_value and back to 0).\n",
    "        - max_value: Maximum value of the annealing factor, default is 1.\n",
    "        \"\"\"\n",
    "        super(CyclicBatchAnnealer, self).__init__()\n",
    "        self.update_type = 'batch'\n",
    "        self.cycle_length = cycle_length\n",
    "        self.max_value = max_value\n",
    "        self.warmup_batches = warmup_batches\n",
    "        self.current_step = 0\n",
    "        self.scale = 1.0\n",
    "\n",
    "    def forward(self) -> float:\n",
    "\n",
    "        if self.current_step < self.warmup_batches:\n",
    "            self.current_step += 1\n",
    "        else:\n",
    "            # Calculate the position within the current cycle\n",
    "            cycle_pos = (self.current_step-self.warmup_batches) % self.cycle_length\n",
    "\n",
    "            # Calculate the scale using a triangle sinusoidal function\n",
    "            self.scale = self.max_value * (1 - abs(cycle_pos / (self.cycle_length / 2) - 1))\n",
    "\n",
    "            self.current_step += 1"
   ]
  },
  {
   "cell_type": "code",
   "execution_count": 55,
   "id": "a6a2025e",
   "metadata": {},
   "outputs": [],
   "source": [
    "cyclic = CyclicBatchAnnealer(warmup_batches=0)"
   ]
  },
  {
   "cell_type": "code",
   "execution_count": 56,
   "id": "d48a4a73",
   "metadata": {},
   "outputs": [],
   "source": [
    "values = []\n",
    "for i in range(17000):\n",
    "    cyclic()\n",
    "    values.append(cyclic.scale)\n"
   ]
  },
  {
   "cell_type": "code",
   "execution_count": 57,
   "id": "6d6cfc26",
   "metadata": {},
   "outputs": [
    {
     "data": {
      "text/plain": [
       "[<matplotlib.lines.Line2D at 0x7e8f16d05600>]"
      ]
     },
     "execution_count": 57,
     "metadata": {},
     "output_type": "execute_result"
    },
    {
     "data": {
      "image/png": "[encoded data removed]",
      "text/plain": [
       "<Figure size 640x480 with 1 Axes>"
      ]
     },
     "metadata": {},
     "output_type": "display_data"
    }
   ],
   "source": [
    "import matplotlib.pyplot as plt\n",
    "plt.plot(values)"
   ]
  },
  {
   "cell_type": "code",
   "execution_count": 45,
   "id": "a4494f61",
   "metadata": {},
   "outputs": [
    {
     "data": {
      "text/plain": [
       "9060"
      ]
     },
     "execution_count": 45,
     "metadata": {},
     "output_type": "execute_result"
    }
   ],
   "source": [
    "60*151"
   ]
  },
  {
   "cell_type": "code",
   "execution_count": null,
   "id": "26b984aa",
   "metadata": {},
   "outputs": [],
   "source": []
  }
 ],
 "metadata": {
  "kernelspec": {
   "display_name": "Python 3 (ipykernel)",
   "language": "python",
   "name": "python3"
  },
  "language_info": {
   "codemirror_mode": {
    "name": "ipython",
    "version": 3
   },
   "file_extension": ".py",
   "mimetype": "text/x-python",
   "name": "python",
   "nbconvert_exporter": "python",
   "pygments_lexer": "ipython3",
   "version": "3.10.13"
  }
 },
 "nbformat": 4,
 "nbformat_minor": 5
}
