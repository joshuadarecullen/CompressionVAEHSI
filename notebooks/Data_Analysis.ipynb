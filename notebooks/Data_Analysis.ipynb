{
 "cells": [
  {
   "cell_type": "markdown",
   "id": "76da61f3",
   "metadata": {},
   "source": [
    "## Dataset Analysis"
   ]
  },
  {
   "cell_type": "code",
   "execution_count": 5,
   "id": "441b1ab0",
   "metadata": {},
   "outputs": [],
   "source": [
    "import sys\n",
    "import os\n",
    "cwd = os.getcwd()\n",
    "parent_dir = os.path.abspath(os.path.join(os.path.dirname(cwd), '.')) # Get the absolute path to the parent directory\n",
    "sys.path.insert(0, parent_dir) # Add the parent directory to sys.path"
   ]
  },
  {
   "cell_type": "code",
   "execution_count": 6,
   "id": "24a1a4e1",
   "metadata": {},
   "outputs": [
    {
     "data": {
      "text/plain": [
       "'/home/joshua/Documents/phd/CompressionVAEHSI'"
      ]
     },
     "execution_count": 6,
     "metadata": {},
     "output_type": "execute_result"
    }
   ],
   "source": [
    "parent_dir"
   ]
  },
  {
   "cell_type": "code",
   "execution_count": 8,
   "id": "325c3446",
   "metadata": {},
   "outputs": [
    {
     "name": "stdout",
     "output_type": "stream",
     "text": [
      "[True, True, True]\n"
     ]
    }
   ],
   "source": [
    "from src.data.bigearth_datamodule import BigEarthDataModule\n",
    "\n",
    "dataset_dir = parent_dir + \"/data\" # root directory where to download the datasets\n",
    "batch_size = 16\n",
    "\n",
    "dm = BigEarthDataModule(dataset_dir=dataset_dir, batch_size=batch_size, bands='all')\n",
    "dm.setup()"
   ]
  },
  {
   "cell_type": "code",
   "execution_count": 12,
   "id": "16683746",
   "metadata": {},
   "outputs": [
    {
     "name": "stdout",
     "output_type": "stream",
     "text": [
      "Number of train samples:  332342\n",
      "Number of validation samples:  83086\n",
      "Number of test samples:  103857\n"
     ]
    }
   ],
   "source": [
    "dm.setup_folds(5)\n",
    "dm.setup_fold_index(0)\n",
    "print(\"Number of train samples: \", len(dm.train_dataloader().dataset))\n",
    "print(\"Number of validation samples: \", len(dm.val_dataloader().dataset))\n",
    "print(\"Number of test samples: \", len(dm.test_dataloader().dataset))"
   ]
  },
  {
   "cell_type": "code",
   "execution_count": 24,
   "id": "c2e4b5f0",
   "metadata": {},
   "outputs": [],
   "source": [
    "batch = next(iter(dm.train_dataloader()))\n",
    "x, y = batch.values()"
   ]
  },
  {
   "cell_type": "code",
   "execution_count": 25,
   "id": "7086cb88",
   "metadata": {},
   "outputs": [
    {
     "data": {
      "text/plain": [
       "torch.Size([16, 14, 120, 120])"
      ]
     },
     "execution_count": 25,
     "metadata": {},
     "output_type": "execute_result"
    }
   ],
   "source": [
    "batch['image'].shape"
   ]
  },
  {
   "cell_type": "code",
   "execution_count": 29,
   "id": "a134fed5",
   "metadata": {},
   "outputs": [
    {
     "name": "stdout",
     "output_type": "stream",
     "text": [
      "torch.Size([16, 256])\n",
      "torch.Size([16, 256])\n"
     ]
    }
   ],
   "source": [
    "from src.models.components.encoder import Encoder\n",
    "enc = Encoder()\n",
    "mu, logvar = enc(x)\n",
    "print(mu.shape)\n",
    "print(logvar.shape)"
   ]
  },
  {
   "cell_type": "code",
   "execution_count": null,
   "id": "e817f667",
   "metadata": {},
   "outputs": [],
   "source": [
    "import matplotlib.pyplot as plt\n",
    "import numpy as np\n",
    "\n",
    "#TODO for reconstruction images we need the one-hot class decoder\n",
    "def get_label_names(onehots, class_names):\n",
    "    \"\"\"get all the names when a label is a one-hot.\"\"\"\n",
    "    label_idx = np.where(onehots)[0]\n",
    "    label_names = [class_names[idx] for idx in label_idx]\n",
    "    return label_names\n",
    "\n",
    "def display_image(ds, idx):\n",
    "    img = ds[idx]['data'].numpy()\n",
    "    labels = ds[idx]['labels']\n",
    "    for band in range(len(img)):\n",
    "        # normalize based on min/max pixel values to clamp ranges in [0, 1]\n",
    "        img[band, ...] = (img[band, ...] - np.min(img[band, ...])) / np.max(img[band, ...])\n",
    "    \n",
    "    img = np.moveaxis(img, 0, 2) # C, W, H > W, H, C\n",
    "    img = img[:,:,::-1] # BGR to RGB\n",
    "    \n",
    "    label_names = get_label_names(labels, ds.class_names) \n",
    "\n",
    "    plt.title('\\n'.join(label_names))\n",
    "    plt.imshow(img)\n",
    "    ax = plt.gca()\n",
    "    ax.set_axis_off()\n",
    "    plt.show()\n",
    "\n",
    "ds = dm.val_dataloader().dataset\n",
    "for idx in [0, 12, 311, 776, 44]:\n",
    "    display_image(ds, idx)"
   ]
  }
 ],
 "metadata": {
  "kernelspec": {
   "display_name": "Python 3 (ipykernel)",
   "language": "python",
   "name": "python3"
  },
  "language_info": {
   "codemirror_mode": {
    "name": "ipython",
    "version": 3
   },
   "file_extension": ".py",
   "mimetype": "text/x-python",
   "name": "python",
   "nbconvert_exporter": "python",
   "pygments_lexer": "ipython3",
   "version": "3.8.17"
  }
 },
 "nbformat": 4,
 "nbformat_minor": 5
}
